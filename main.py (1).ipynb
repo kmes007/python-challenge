{
 "cells": [
  {
   "cell_type": "code",
   "execution_count": 4,
   "metadata": {},
   "outputs": [],
   "source": [
    "import os"
   ]
  },
  {
   "cell_type": "code",
   "execution_count": 5,
   "metadata": {},
   "outputs": [],
   "source": [
    "import csv"
   ]
  },
  {
   "cell_type": "code",
   "execution_count": null,
   "metadata": {},
   "outputs": [],
   "source": [
    "#Declare variables\n",
    "month_count = 0 \n",
    "total_revenue = 0\n",
    "this_month_revenue = 0\n",
    "last_month_revenue = 0\n",
    "revenue_change = 0\n",
    "revenue_changes = []\n",
    "months = []"
   ]
  },
  {
   "cell_type": "code",
   "execution_count": null,
   "metadata": {},
   "outputs": [],
   "source": [
    "# open csv file\n",
    "filepath = os.path.join('Resources/budget_data.csv', filename)\n",
    "with open(filepath, 'r', newline=\"\") as csvfile:\n",
    "    csvreader = csv.reader(csvfile, delimiter=\",\")\n",
    "    next(csvreader)"
   ]
  },
  {
   "cell_type": "code",
   "execution_count": null,
   "metadata": {},
   "outputs": [],
   "source": [
    "# changes in revenue\n",
    "    for row in csvreader:\n",
    "        month_count = month_count +1\n",
    "        months.append(row[0])\n",
    "        this_month_revenue = int(row[1])\n",
    "        total_revenue = total_revenue + this_month_revenue\n",
    "        if month_count > 1:\n",
    "            revenue_change = this_month_revenue - last_month_revenue\n",
    "            revenue_changes.append(revenue_change)\n",
    "        last_month_revenue = this_month_revenue"
   ]
  },
  {
   "cell_type": "code",
   "execution_count": null,
   "metadata": {},
   "outputs": [],
   "source": [
    "# month by month results\n",
    "sum_rev_changes = sum(revenue_changes)\n",
    "average_change = sum_rev_changes / (month_count -1)\n",
    "max_change = max(revenue_changes)\n",
    "min_change = min(revenue_changes)\n",
    "max_month_index = revenue_changes.index(max_change)\n",
    "min_month_index = revenue_changes.index(min_change)\n",
    "max_month = months[max_month_index]\n",
    "min_month = months[min_month_index]"
   ]
  },
  {
   "cell_type": "code",
   "execution_count": null,
   "metadata": {},
   "outputs": [],
   "source": [
    "print(\"Financial Analysis\")\n",
    "print(\"------------------\")\n",
    "print(f\"Total Months: {month_count}\")\n",
    "print(f\"Total Revenue: ${total_revenue}\")\n",
    "print(f\"Average Revenue Change: ${average_change}\")\n",
    "print(f\"Greatest Increase in Revenue: {max_month} (${max_change})\")\n",
    "print(f\"Greatest Decrease in Revenue: {min_month} (${min_change})\")"
   ]
  },
  {
   "cell_type": "code",
   "execution_count": null,
   "metadata": {},
   "outputs": [],
   "source": [
    "# save summary to txt\n",
    "save_file = filename.strip(\".csv\") + \"_results.txt\"\n",
    "filepath = os.path.join(\",\", save_file)\n",
    "with open(filepath, 'w') as text:\n",
    "    text.write(\"Financial Analysis\" + \"\\n\")\n",
    "    text.write(\"-----------------------------\" + \"\\n\")\n",
    "    text.write(f\"Total Months: {month_count}\" + \"\\n\")\n",
    "    text.write(f\"Total Revenue: ${total_revenue}\" + \"\\n\")\n",
    "    text.write(f\"Average Revenue Change: ${average_change}\" + \"\\n\")\n",
    "    text.write(f\"Greatest Increase in Revenue: {max_month} (${max_change})\" + \"\\n\")\n",
    "    text.write(f\"Greatest Decrease in Revenue: {min_month} (${min_change})\" + \"\\n\")"
   ]
  },
  {
   "cell_type": "code",
   "execution_count": null,
   "metadata": {},
   "outputs": [],
   "source": []
  }
 ],
 "metadata": {
  "kernelspec": {
   "display_name": "Python 3",
   "language": "python",
   "name": "python3"
  },
  "language_info": {
   "codemirror_mode": {
    "name": "ipython",
    "version": 3
   },
   "file_extension": ".py",
   "mimetype": "text/x-python",
   "name": "python",
   "nbconvert_exporter": "python",
   "pygments_lexer": "ipython3",
   "version": "3.7.3"
  }
 },
 "nbformat": 4,
 "nbformat_minor": 2
}
